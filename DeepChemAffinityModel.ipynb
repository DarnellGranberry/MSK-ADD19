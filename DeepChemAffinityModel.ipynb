{
 "cells": [
  {
   "cell_type": "markdown",
   "metadata": {
    "colab_type": "text",
    "id": "fCntzGqpLJay"
   },
   "source": [
    "DeepChem tutorial at https://deepchem.io/docs/notebooks/protein_ligand_complex_notebook.html"
   ]
  },
  {
   "cell_type": "markdown",
   "metadata": {
    "colab_type": "text",
    "id": "SY01Z1W0O01L"
   },
   "source": [
    "Step 0: import packages, dependencies, etc."
   ]
  },
  {
   "cell_type": "code",
   "execution_count": null,
   "metadata": {
    "colab": {
     "base_uri": "https://localhost:8080/",
     "height": 1997
    },
    "colab_type": "code",
    "id": "wGjK6QV2Kx_B",
    "outputId": "0e6f29e1-7b77-40f3-960f-3b09e0dd308d"
   },
   "outputs": [],
   "source": [
    "#Run this cell if running on Google Colab. Downloads Miniconda, DeepChem and dependencies, and nglview, mdtraj packages.\n",
    "\n",
    "%load_ext autoreload\n",
    "%autoreload 2\n",
    "%pdb off\n",
    "# set DISPLAY = True when running tutorial\n",
    "DISPLAY = False\n",
    "# set PARALLELIZE to true if you want to use ipyparallel\n",
    "PARALLELIZE = False\n",
    "import warnings\n",
    "warnings.filterwarnings('ignore')\n",
    "\n",
    "#install conda, rdkit, pytorch\n",
    "!wget -c https://repo.continuum.io/miniconda/Miniconda3-latest-Linux-x86_64.sh\n",
    "!chmod +x Miniconda3-latest-Linux-x86_64.sh\n",
    "!bash ./Miniconda3-latest-Linux-x86_64.sh -b -f -p /usr/local\n",
    "!conda install -q -y -c conda-forge rdkit\n",
    "!conda install pytorch torchvision cudatoolkit=9.0 -c pytorch -y\n",
    "!conda install -y --prefix /usr/local -c conda-forge rdkit joblib simdna\n",
    "\n",
    "\n",
    "#!git clone https://github.com/deepchem/deepchem.git      # Clone deepchem source code from GitHub\n",
    "#!cd deepchem && python setup.py install\n",
    "#!ls -la /usr/local/lib/python3.7/site-packages/deepchem\n",
    "!conda install -c deepchem -c rdkit -c conda-forge -c omnia deepchem=2.1.0 -y\n",
    "\n",
    "#!conda install nglview -y -c conda-forge\n",
    "!conda install nglview -y -c conda-forge --prefix /usr/local\n",
    "!conda install mdtraj -y -c conda-forge --prefix /usr/local\n",
    "import sys\n",
    "sys.path.append('/usr/local/lib/python3.7/site-packages/')"
   ]
  },
  {
   "cell_type": "code",
   "execution_count": 1,
   "metadata": {
    "colab": {
     "base_uri": "https://localhost:8080/",
     "height": 89
    },
    "colab_type": "code",
    "id": "j7HoaodcNZaO",
    "outputId": "c40f5f77-8e33-4012-85f5-40d6635364e9",
    "scrolled": true
   },
   "outputs": [],
   "source": [
    "import deepchem as dc\n",
    "from deepchem.utils import download_url\n",
    "\n",
    "from deepchem.utils.evaluate import Evaluator\n",
    "from urllib.request import urlretrieve  # Python 3\n",
    "import tempfile\n",
    "import os\n",
    "import numpy as np\n",
    "import pandas as pd\n",
    "import matplotlib\n",
    "import matplotlib.pyplot as plt\n",
    "from sklearn.ensemble import RandomForestRegressor\n",
    "import mdtraj as md\n",
    "import nglview\n",
    "print(\"All modules imported.\")"
   ]
  },
  {
   "cell_type": "markdown",
   "metadata": {
    "colab_type": "text",
    "id": "LQXCVNakO8sV"
   },
   "source": [
    "Step 1: retrieve and visual dataset"
   ]
  },
  {
   "cell_type": "code",
   "execution_count": 3,
   "metadata": {
    "colab": {},
    "colab_type": "code",
    "id": "gENfm7WnOZ-t"
   },
   "outputs": [],
   "source": [
    "download_url(\"https://s3-us-west-1.amazonaws.com/deepchem.io/datasets/pdbbind_core_df.csv.gz\")\n",
    "data_dir = os.path.join(dc.utils.get_data_dir())\n",
    "dataset_file= os.path.join(dc.utils.get_data_dir(), \"pdbbind_core_df.csv.gz\")\n",
    "raw_dataset = dc.utils.save.load_from_disk(dataset_file)"
   ]
  },
  {
   "cell_type": "code",
   "execution_count": 4,
   "metadata": {
    "colab": {
     "base_uri": "https://localhost:8080/",
     "height": 192
    },
    "colab_type": "code",
    "id": "5QPWITGdNo-X",
    "outputId": "50145468-3958-4727-c00f-e2279aebde64"
   },
   "outputs": [
    {
     "name": "stdout",
     "output_type": "stream",
     "text": [
      "Type of dataset is: <class 'pandas.core.frame.DataFrame'>\n",
      "  pdb_id                                             smiles  \\\n",
      "0   2d3u        CC1CCCCC1S(O)(O)NC1CC(C2CCC(CN)CC2)SC1C(O)O   \n",
      "1   3cyx  CC(C)(C)NC(O)C1CC2CCCCC2C[NH+]1CC(O)C(CC1CCCCC...   \n",
      "2   3uo4        OC(O)C1CCC(NC2NCCC(NC3CCCCC3C3CCCCC3)N2)CC1   \n",
      "3   1p1q                         CC1ONC(O)C1CC([NH3+])C(O)O   \n",
      "4   3ag9  NC(O)C(CCC[NH2+]C([NH3+])[NH3+])NC(O)C(CCC[NH2...   \n",
      "\n",
      "                                          complex_id  \\\n",
      "0    2d3uCC1CCCCC1S(O)(O)NC1CC(C2CCC(CN)CC2)SC1C(O)O   \n",
      "1  3cyxCC(C)(C)NC(O)C1CC2CCCCC2C[NH+]1CC(O)C(CC1C...   \n",
      "2    3uo4OC(O)C1CCC(NC2NCCC(NC3CCCCC3C3CCCCC3)N2)CC1   \n",
      "3                     1p1qCC1ONC(O)C1CC([NH3+])C(O)O   \n",
      "4  3ag9NC(O)C(CCC[NH2+]C([NH3+])[NH3+])NC(O)C(CCC...   \n",
      "\n",
      "                                         protein_pdb  \\\n",
      "0  ['HEADER    2D3U PROTEIN\\n', 'COMPND    2D3U P...   \n",
      "1  ['HEADER    3CYX PROTEIN\\n', 'COMPND    3CYX P...   \n",
      "2  ['HEADER    3UO4 PROTEIN\\n', 'COMPND    3UO4 P...   \n",
      "3  ['HEADER    1P1Q PROTEIN\\n', 'COMPND    1P1Q P...   \n",
      "4  ['HEADER    3AG9 PROTEIN\\n', 'COMPND    3AG9 P...   \n",
      "\n",
      "                                          ligand_pdb  \\\n",
      "0  ['COMPND    2d3u ligand \\n', 'AUTHOR    GENERA...   \n",
      "1  ['COMPND    3cyx ligand \\n', 'AUTHOR    GENERA...   \n",
      "2  ['COMPND    3uo4 ligand \\n', 'AUTHOR    GENERA...   \n",
      "3  ['COMPND    1p1q ligand \\n', 'AUTHOR    GENERA...   \n",
      "4  ['COMPND    3ag9 ligand \\n', 'AUTHOR    GENERA...   \n",
      "\n",
      "                                         ligand_mol2  label  \n",
      "0  ['### \\n', '### Created by X-TOOL on Thu Aug 2...   6.92  \n",
      "1  ['### \\n', '### Created by X-TOOL on Thu Aug 2...   8.00  \n",
      "2  ['### \\n', '### Created by X-TOOL on Fri Aug 2...   6.52  \n",
      "3  ['### \\n', '### Created by X-TOOL on Thu Aug 2...   4.89  \n",
      "4  ['### \\n', '### Created by X-TOOL on Thu Aug 2...   8.05  \n",
      "Shape of dataset is: (193, 7)\n"
     ]
    }
   ],
   "source": [
    "print(\"Type of dataset is: %s\" % str(type(raw_dataset)))\n",
    "print(raw_dataset[:5])\n",
    "print(\"Shape of dataset is: %s\" % str(raw_dataset.shape))"
   ]
  },
  {
   "cell_type": "code",
   "execution_count": 5,
   "metadata": {
    "colab": {},
    "colab_type": "code",
    "id": "hmvyzcf6ObNu"
   },
   "outputs": [],
   "source": [
    "def combine_mdtraj(protein, ligand):\n",
    "  chain = protein.topology.add_chain()\n",
    "  residue = protein.topology.add_residue(\"LIG\", chain, resSeq=1)\n",
    "  for atom in ligand.topology.atoms:\n",
    "      protein.topology.add_atom(atom.name, atom.element, residue)\n",
    "  protein.xyz = np.hstack([protein.xyz, ligand.xyz])\n",
    "  protein.topology.create_standard_bonds()\n",
    "  return protein"
   ]
  },
  {
   "cell_type": "code",
   "execution_count": 6,
   "metadata": {
    "colab": {},
    "colab_type": "code",
    "id": "YLPi83-kOg0_"
   },
   "outputs": [],
   "source": [
    "def visualize_complex(complex_mdtraj):\n",
    "  ligand_atoms = [a.index for a in complex_mdtraj.topology.atoms if \"LIG\" in str(a.residue)]\n",
    "  binding_pocket_atoms = md.compute_neighbors(complex_mdtraj, 0.5, ligand_atoms)[0]\n",
    "  binding_pocket_residues = list(set([complex_mdtraj.topology.atom(a).residue.resSeq for a in binding_pocket_atoms]))\n",
    "  binding_pocket_residues = [str(r) for r in binding_pocket_residues]\n",
    "  binding_pocket_residues = \" or \".join(binding_pocket_residues)\n",
    "\n",
    "  traj = nglview.MDTrajTrajectory( complex_mdtraj ) # load file from RCSB PDB\n",
    "  ngltraj = nglview.NGLWidget( traj )\n",
    "  ngltraj.representations = [\n",
    "  { \"type\": \"cartoon\", \"params\": {\n",
    "  \"sele\": \"protein\", \"color\": \"residueindex\"\n",
    "  } },\n",
    "  { \"type\": \"licorice\", \"params\": {\n",
    "  \"sele\": \"(not hydrogen) and (%s)\" %  binding_pocket_residues\n",
    "  } },\n",
    "  { \"type\": \"ball+stick\", \"params\": {\n",
    "  \"sele\": \"LIG\"\n",
    "  } }\n",
    "  ]\n",
    "  return ngltraj"
   ]
  },
  {
   "cell_type": "code",
   "execution_count": 7,
   "metadata": {
    "colab": {},
    "colab_type": "code",
    "id": "yU_7FFpjOjTF"
   },
   "outputs": [],
   "source": [
    "def visualize_ligand(ligand_mdtraj):\n",
    "  traj = nglview.MDTrajTrajectory( ligand_mdtraj ) # load file from RCSB PDB\n",
    "  ngltraj = nglview.NGLWidget( traj )\n",
    "  ngltraj.representations = [\n",
    "    { \"type\": \"ball+stick\", \"params\": {\"sele\": \"all\" } } ]\n",
    "  return ngltraj"
   ]
  },
  {
   "cell_type": "code",
   "execution_count": 8,
   "metadata": {
    "colab": {},
    "colab_type": "code",
    "id": "8fMaes3-OlTG"
   },
   "outputs": [],
   "source": [
    "def convert_lines_to_mdtraj(molecule_lines):\n",
    "  molecule_lines = molecule_lines.strip('[').strip(']').replace(\"'\",\"\").replace(\"\\\\n\", \"\").split(\", \")\n",
    "  tempdir = tempfile.mkdtemp()\n",
    "  molecule_file = os.path.join(tempdir, \"molecule.pdb\")\n",
    "  with open(molecule_file, \"w\") as f:\n",
    "    for line in molecule_lines:\n",
    "        f.write(\"%s\\n\" % line)\n",
    "  molecule_mdtraj = md.load(molecule_file)\n",
    "  return molecule_mdtraj"
   ]
  },
  {
   "cell_type": "code",
   "execution_count": 9,
   "metadata": {
    "colab": {
     "base_uri": "https://localhost:8080/",
     "height": 325
    },
    "colab_type": "code",
    "id": "39cSO1OMOn5Y",
    "outputId": "cf2e972a-9ec9-4e39-f7e7-539cb25f422a"
   },
   "outputs": [],
   "source": [
    "first_protein, first_ligand = raw_dataset.iloc[0][\"protein_pdb\"], raw_dataset.iloc[0][\"ligand_pdb\"]\n",
    "protein_mdtraj = convert_lines_to_mdtraj(first_protein)\n",
    "ligand_mdtraj = convert_lines_to_mdtraj(first_ligand)\n",
    "complex_mdtraj = combine_mdtraj(protein_mdtraj, ligand_mdtraj)"
   ]
  },
  {
   "cell_type": "code",
   "execution_count": 10,
   "metadata": {
    "colab": {},
    "colab_type": "code",
    "id": "6xIxwzDyOpoI"
   },
   "outputs": [
    {
     "ename": "PermissionError",
     "evalue": "[Errno 13] Permission denied: 'C:\\\\Users\\\\darne\\\\AppData\\\\Local\\\\Temp\\\\tmpamxvwmj0.pdb'",
     "output_type": "error",
     "traceback": [
      "\u001b[1;31m---------------------------------------------------------------------------\u001b[0m",
      "\u001b[1;31mPermissionError\u001b[0m                           Traceback (most recent call last)",
      "\u001b[1;32m<ipython-input-10-4cb35cbdf9a0>\u001b[0m in \u001b[0;36m<module>\u001b[1;34m()\u001b[0m\n\u001b[1;32m----> 1\u001b[1;33m \u001b[0mngltraj\u001b[0m \u001b[1;33m=\u001b[0m \u001b[0mvisualize_complex\u001b[0m\u001b[1;33m(\u001b[0m\u001b[0mcomplex_mdtraj\u001b[0m\u001b[1;33m)\u001b[0m\u001b[1;33m\u001b[0m\u001b[1;33m\u001b[0m\u001b[0m\n\u001b[0m\u001b[0;32m      2\u001b[0m \u001b[0mngltraj\u001b[0m\u001b[1;33m\u001b[0m\u001b[1;33m\u001b[0m\u001b[0m\n",
      "\u001b[1;32m<ipython-input-6-162a4fa181ac>\u001b[0m in \u001b[0;36mvisualize_complex\u001b[1;34m(complex_mdtraj)\u001b[0m\n\u001b[0;32m      7\u001b[0m \u001b[1;33m\u001b[0m\u001b[0m\n\u001b[0;32m      8\u001b[0m   \u001b[0mtraj\u001b[0m \u001b[1;33m=\u001b[0m \u001b[0mnglview\u001b[0m\u001b[1;33m.\u001b[0m\u001b[0mMDTrajTrajectory\u001b[0m\u001b[1;33m(\u001b[0m \u001b[0mcomplex_mdtraj\u001b[0m \u001b[1;33m)\u001b[0m \u001b[1;31m# load file from RCSB PDB\u001b[0m\u001b[1;33m\u001b[0m\u001b[1;33m\u001b[0m\u001b[0m\n\u001b[1;32m----> 9\u001b[1;33m   \u001b[0mngltraj\u001b[0m \u001b[1;33m=\u001b[0m \u001b[0mnglview\u001b[0m\u001b[1;33m.\u001b[0m\u001b[0mNGLWidget\u001b[0m\u001b[1;33m(\u001b[0m \u001b[0mtraj\u001b[0m \u001b[1;33m)\u001b[0m\u001b[1;33m\u001b[0m\u001b[1;33m\u001b[0m\u001b[0m\n\u001b[0m\u001b[0;32m     10\u001b[0m   ngltraj.representations = [\n\u001b[0;32m     11\u001b[0m   { \"type\": \"cartoon\", \"params\": {\n",
      "\u001b[1;32m~\\Anaconda3\\lib\\site-packages\\nglview\\widget.py\u001b[0m in \u001b[0;36m__init__\u001b[1;34m(self, structure, representations, parameters, **kwargs)\u001b[0m\n\u001b[0;32m    193\u001b[0m         \u001b[1;32mif\u001b[0m \u001b[0misinstance\u001b[0m\u001b[1;33m(\u001b[0m\u001b[0mstructure\u001b[0m\u001b[1;33m,\u001b[0m \u001b[0mTrajectory\u001b[0m\u001b[1;33m)\u001b[0m\u001b[1;33m:\u001b[0m\u001b[1;33m\u001b[0m\u001b[1;33m\u001b[0m\u001b[0m\n\u001b[0;32m    194\u001b[0m             \u001b[0mname\u001b[0m \u001b[1;33m=\u001b[0m \u001b[0mpy_utils\u001b[0m\u001b[1;33m.\u001b[0m\u001b[0mget_name\u001b[0m\u001b[1;33m(\u001b[0m\u001b[0mstructure\u001b[0m\u001b[1;33m,\u001b[0m \u001b[0mkwargs\u001b[0m\u001b[1;33m)\u001b[0m\u001b[1;33m\u001b[0m\u001b[1;33m\u001b[0m\u001b[0m\n\u001b[1;32m--> 195\u001b[1;33m             \u001b[0mself\u001b[0m\u001b[1;33m.\u001b[0m\u001b[0madd_trajectory\u001b[0m\u001b[1;33m(\u001b[0m\u001b[0mstructure\u001b[0m\u001b[1;33m,\u001b[0m \u001b[0mname\u001b[0m\u001b[1;33m=\u001b[0m\u001b[0mname\u001b[0m\u001b[1;33m,\u001b[0m \u001b[1;33m**\u001b[0m\u001b[0mkwargs\u001b[0m\u001b[1;33m)\u001b[0m\u001b[1;33m\u001b[0m\u001b[1;33m\u001b[0m\u001b[0m\n\u001b[0m\u001b[0;32m    196\u001b[0m         \u001b[1;32melif\u001b[0m \u001b[0misinstance\u001b[0m\u001b[1;33m(\u001b[0m\u001b[0mstructure\u001b[0m\u001b[1;33m,\u001b[0m \u001b[1;33m(\u001b[0m\u001b[0mlist\u001b[0m\u001b[1;33m,\u001b[0m \u001b[0mtuple\u001b[0m\u001b[1;33m)\u001b[0m\u001b[1;33m)\u001b[0m\u001b[1;33m:\u001b[0m\u001b[1;33m\u001b[0m\u001b[1;33m\u001b[0m\u001b[0m\n\u001b[0;32m    197\u001b[0m             \u001b[0mtrajectories\u001b[0m \u001b[1;33m=\u001b[0m \u001b[0mstructure\u001b[0m\u001b[1;33m\u001b[0m\u001b[1;33m\u001b[0m\u001b[0m\n",
      "\u001b[1;32m~\\Anaconda3\\lib\\site-packages\\nglview\\widget.py\u001b[0m in \u001b[0;36madd_trajectory\u001b[1;34m(self, trajectory, **kwargs)\u001b[0m\n\u001b[0;32m   1128\u001b[0m             \u001b[0mtrajectory\u001b[0m \u001b[1;33m=\u001b[0m \u001b[0mtrajectory\u001b[0m\u001b[1;33m\u001b[0m\u001b[1;33m\u001b[0m\u001b[0m\n\u001b[0;32m   1129\u001b[0m \u001b[1;33m\u001b[0m\u001b[0m\n\u001b[1;32m-> 1130\u001b[1;33m         \u001b[0mself\u001b[0m\u001b[1;33m.\u001b[0m\u001b[0m_load_data\u001b[0m\u001b[1;33m(\u001b[0m\u001b[0mtrajectory\u001b[0m\u001b[1;33m,\u001b[0m \u001b[1;33m**\u001b[0m\u001b[0mkwargs\u001b[0m\u001b[1;33m)\u001b[0m\u001b[1;33m\u001b[0m\u001b[1;33m\u001b[0m\u001b[0m\n\u001b[0m\u001b[0;32m   1131\u001b[0m         \u001b[0msetattr\u001b[0m\u001b[1;33m(\u001b[0m\u001b[0mtrajectory\u001b[0m\u001b[1;33m,\u001b[0m \u001b[1;34m'shown'\u001b[0m\u001b[1;33m,\u001b[0m \u001b[1;32mTrue\u001b[0m\u001b[1;33m)\u001b[0m\u001b[1;33m\u001b[0m\u001b[1;33m\u001b[0m\u001b[0m\n\u001b[0;32m   1132\u001b[0m         \u001b[0mself\u001b[0m\u001b[1;33m.\u001b[0m\u001b[0m_trajlist\u001b[0m\u001b[1;33m.\u001b[0m\u001b[0mappend\u001b[0m\u001b[1;33m(\u001b[0m\u001b[0mtrajectory\u001b[0m\u001b[1;33m)\u001b[0m\u001b[1;33m\u001b[0m\u001b[1;33m\u001b[0m\u001b[0m\n",
      "\u001b[1;32m~\\Anaconda3\\lib\\site-packages\\nglview\\widget.py\u001b[0m in \u001b[0;36m_load_data\u001b[1;34m(self, obj, **kwargs)\u001b[0m\n\u001b[0;32m   1196\u001b[0m         \u001b[1;32mif\u001b[0m \u001b[1;32mnot\u001b[0m \u001b[0mis_url\u001b[0m\u001b[1;33m:\u001b[0m\u001b[1;33m\u001b[0m\u001b[1;33m\u001b[0m\u001b[0m\n\u001b[0;32m   1197\u001b[0m             \u001b[1;32mif\u001b[0m \u001b[0mhasattr\u001b[0m\u001b[1;33m(\u001b[0m\u001b[0mobj\u001b[0m\u001b[1;33m,\u001b[0m \u001b[1;34m'get_structure_string'\u001b[0m\u001b[1;33m)\u001b[0m\u001b[1;33m:\u001b[0m\u001b[1;33m\u001b[0m\u001b[1;33m\u001b[0m\u001b[0m\n\u001b[1;32m-> 1198\u001b[1;33m                 \u001b[0mblob\u001b[0m \u001b[1;33m=\u001b[0m \u001b[0mobj\u001b[0m\u001b[1;33m.\u001b[0m\u001b[0mget_structure_string\u001b[0m\u001b[1;33m(\u001b[0m\u001b[1;33m)\u001b[0m\u001b[1;33m\u001b[0m\u001b[1;33m\u001b[0m\u001b[0m\n\u001b[0m\u001b[0;32m   1199\u001b[0m                 \u001b[0mkwargs2\u001b[0m\u001b[1;33m[\u001b[0m\u001b[1;34m'ext'\u001b[0m\u001b[1;33m]\u001b[0m \u001b[1;33m=\u001b[0m \u001b[0mobj\u001b[0m\u001b[1;33m.\u001b[0m\u001b[0mext\u001b[0m\u001b[1;33m\u001b[0m\u001b[1;33m\u001b[0m\u001b[0m\n\u001b[0;32m   1200\u001b[0m                 \u001b[0mpassing_buffer\u001b[0m \u001b[1;33m=\u001b[0m \u001b[1;32mTrue\u001b[0m\u001b[1;33m\u001b[0m\u001b[1;33m\u001b[0m\u001b[0m\n",
      "\u001b[1;32m~\\Anaconda3\\lib\\site-packages\\nglview\\adaptor.py\u001b[0m in \u001b[0;36mget_structure_string\u001b[1;34m(self)\u001b[0m\n\u001b[0;32m    301\u001b[0m \u001b[1;33m\u001b[0m\u001b[0m\n\u001b[0;32m    302\u001b[0m     \u001b[1;32mdef\u001b[0m \u001b[0mget_structure_string\u001b[0m\u001b[1;33m(\u001b[0m\u001b[0mself\u001b[0m\u001b[1;33m)\u001b[0m\u001b[1;33m:\u001b[0m\u001b[1;33m\u001b[0m\u001b[1;33m\u001b[0m\u001b[0m\n\u001b[1;32m--> 303\u001b[1;33m         \u001b[1;32mreturn\u001b[0m \u001b[0m_get_structure_string\u001b[0m\u001b[1;33m(\u001b[0m\u001b[0mself\u001b[0m\u001b[1;33m.\u001b[0m\u001b[0mtrajectory\u001b[0m\u001b[1;33m[\u001b[0m\u001b[1;36m0\u001b[0m\u001b[1;33m]\u001b[0m\u001b[1;33m.\u001b[0m\u001b[0msave_pdb\u001b[0m\u001b[1;33m)\u001b[0m\u001b[1;33m\u001b[0m\u001b[1;33m\u001b[0m\u001b[0m\n\u001b[0m\u001b[0;32m    304\u001b[0m \u001b[1;33m\u001b[0m\u001b[0m\n\u001b[0;32m    305\u001b[0m \u001b[1;33m\u001b[0m\u001b[0m\n",
      "\u001b[1;32m~\\Anaconda3\\lib\\site-packages\\nglview\\adaptor.py\u001b[0m in \u001b[0;36m_get_structure_string\u001b[1;34m(write_method, suffix)\u001b[0m\n\u001b[0;32m     29\u001b[0m \u001b[1;32mdef\u001b[0m \u001b[0m_get_structure_string\u001b[0m\u001b[1;33m(\u001b[0m\u001b[0mwrite_method\u001b[0m\u001b[1;33m,\u001b[0m \u001b[0msuffix\u001b[0m\u001b[1;33m=\u001b[0m\u001b[1;34m'.pdb'\u001b[0m\u001b[1;33m)\u001b[0m\u001b[1;33m:\u001b[0m\u001b[1;33m\u001b[0m\u001b[1;33m\u001b[0m\u001b[0m\n\u001b[0;32m     30\u001b[0m     \u001b[1;32mwith\u001b[0m \u001b[0mNamedTemporaryFile\u001b[0m\u001b[1;33m(\u001b[0m\u001b[0msuffix\u001b[0m\u001b[1;33m=\u001b[0m\u001b[0msuffix\u001b[0m\u001b[1;33m)\u001b[0m \u001b[1;32mas\u001b[0m \u001b[0mfh\u001b[0m\u001b[1;33m:\u001b[0m\u001b[1;33m\u001b[0m\u001b[1;33m\u001b[0m\u001b[0m\n\u001b[1;32m---> 31\u001b[1;33m         \u001b[0mwrite_method\u001b[0m\u001b[1;33m(\u001b[0m\u001b[0mfh\u001b[0m\u001b[1;33m.\u001b[0m\u001b[0mname\u001b[0m\u001b[1;33m)\u001b[0m\u001b[1;33m\u001b[0m\u001b[1;33m\u001b[0m\u001b[0m\n\u001b[0m\u001b[0;32m     32\u001b[0m         \u001b[1;32mreturn\u001b[0m \u001b[0mfh\u001b[0m\u001b[1;33m.\u001b[0m\u001b[0mread\u001b[0m\u001b[1;33m(\u001b[0m\u001b[1;33m)\u001b[0m\u001b[1;33m.\u001b[0m\u001b[0mdecode\u001b[0m\u001b[1;33m(\u001b[0m\u001b[1;33m)\u001b[0m\u001b[1;33m\u001b[0m\u001b[1;33m\u001b[0m\u001b[0m\n\u001b[0;32m     33\u001b[0m \u001b[1;33m\u001b[0m\u001b[0m\n",
      "\u001b[1;32m~\\Anaconda3\\lib\\site-packages\\mdtraj\\core\\trajectory.py\u001b[0m in \u001b[0;36msave_pdb\u001b[1;34m(self, filename, force_overwrite, bfactors)\u001b[0m\n\u001b[0;32m   1389\u001b[0m \u001b[1;33m\u001b[0m\u001b[0m\n\u001b[0;32m   1390\u001b[0m \u001b[1;33m\u001b[0m\u001b[0m\n\u001b[1;32m-> 1391\u001b[1;33m         \u001b[1;32mwith\u001b[0m \u001b[0mPDBTrajectoryFile\u001b[0m\u001b[1;33m(\u001b[0m\u001b[0mfilename\u001b[0m\u001b[1;33m,\u001b[0m \u001b[1;34m'w'\u001b[0m\u001b[1;33m,\u001b[0m \u001b[0mforce_overwrite\u001b[0m\u001b[1;33m=\u001b[0m\u001b[0mforce_overwrite\u001b[0m\u001b[1;33m)\u001b[0m \u001b[1;32mas\u001b[0m \u001b[0mf\u001b[0m\u001b[1;33m:\u001b[0m\u001b[1;33m\u001b[0m\u001b[1;33m\u001b[0m\u001b[0m\n\u001b[0m\u001b[0;32m   1392\u001b[0m             \u001b[1;32mfor\u001b[0m \u001b[0mi\u001b[0m \u001b[1;32min\u001b[0m \u001b[0mxrange\u001b[0m\u001b[1;33m(\u001b[0m\u001b[0mself\u001b[0m\u001b[1;33m.\u001b[0m\u001b[0mn_frames\u001b[0m\u001b[1;33m)\u001b[0m\u001b[1;33m:\u001b[0m\u001b[1;33m\u001b[0m\u001b[1;33m\u001b[0m\u001b[0m\n\u001b[0;32m   1393\u001b[0m \u001b[1;33m\u001b[0m\u001b[0m\n",
      "\u001b[1;32m~\\Anaconda3\\lib\\site-packages\\mdtraj\\formats\\pdb\\pdbfile.py\u001b[0m in \u001b[0;36m__init__\u001b[1;34m(self, filename, mode, force_overwrite, standard_names)\u001b[0m\n\u001b[0;32m    271\u001b[0m             \u001b[0mself\u001b[0m\u001b[1;33m.\u001b[0m\u001b[0m_header_written\u001b[0m \u001b[1;33m=\u001b[0m \u001b[1;32mFalse\u001b[0m\u001b[1;33m\u001b[0m\u001b[1;33m\u001b[0m\u001b[0m\n\u001b[0;32m    272\u001b[0m             \u001b[0mself\u001b[0m\u001b[1;33m.\u001b[0m\u001b[0m_footer_written\u001b[0m \u001b[1;33m=\u001b[0m \u001b[1;32mFalse\u001b[0m\u001b[1;33m\u001b[0m\u001b[1;33m\u001b[0m\u001b[0m\n\u001b[1;32m--> 273\u001b[1;33m             \u001b[0mself\u001b[0m\u001b[1;33m.\u001b[0m\u001b[0m_file\u001b[0m \u001b[1;33m=\u001b[0m \u001b[0mopen_maybe_zipped\u001b[0m\u001b[1;33m(\u001b[0m\u001b[0mfilename\u001b[0m\u001b[1;33m,\u001b[0m \u001b[1;34m'w'\u001b[0m\u001b[1;33m,\u001b[0m \u001b[0mforce_overwrite\u001b[0m\u001b[1;33m)\u001b[0m\u001b[1;33m\u001b[0m\u001b[1;33m\u001b[0m\u001b[0m\n\u001b[0m\u001b[0;32m    274\u001b[0m         \u001b[1;32melse\u001b[0m\u001b[1;33m:\u001b[0m\u001b[1;33m\u001b[0m\u001b[1;33m\u001b[0m\u001b[0m\n\u001b[0;32m    275\u001b[0m             \u001b[1;32mraise\u001b[0m \u001b[0mValueError\u001b[0m\u001b[1;33m(\u001b[0m\u001b[1;34m\"invalid mode: %s\"\u001b[0m \u001b[1;33m%\u001b[0m \u001b[0mmode\u001b[0m\u001b[1;33m)\u001b[0m\u001b[1;33m\u001b[0m\u001b[1;33m\u001b[0m\u001b[0m\n",
      "\u001b[1;32m~\\Anaconda3\\lib\\site-packages\\mdtraj\\utils\\zipped.py\u001b[0m in \u001b[0;36mopen_maybe_zipped\u001b[1;34m(filename, mode, force_overwrite)\u001b[0m\n\u001b[0;32m     52\u001b[0m             \u001b[1;32mreturn\u001b[0m \u001b[0mio\u001b[0m\u001b[1;33m.\u001b[0m\u001b[0mTextIOWrapper\u001b[0m\u001b[1;33m(\u001b[0m\u001b[0mbinary_fh\u001b[0m\u001b[1;33m,\u001b[0m \u001b[0mencoding\u001b[0m\u001b[1;33m=\u001b[0m\u001b[1;34m'utf-8'\u001b[0m\u001b[1;33m)\u001b[0m\u001b[1;33m\u001b[0m\u001b[1;33m\u001b[0m\u001b[0m\n\u001b[0;32m     53\u001b[0m         \u001b[1;32melse\u001b[0m\u001b[1;33m:\u001b[0m\u001b[1;33m\u001b[0m\u001b[1;33m\u001b[0m\u001b[0m\n\u001b[1;32m---> 54\u001b[1;33m             \u001b[1;32mreturn\u001b[0m \u001b[0mopen\u001b[0m\u001b[1;33m(\u001b[0m\u001b[0mfilename\u001b[0m\u001b[1;33m,\u001b[0m \u001b[1;34m'w'\u001b[0m\u001b[1;33m)\u001b[0m\u001b[1;33m\u001b[0m\u001b[1;33m\u001b[0m\u001b[0m\n\u001b[0m\u001b[0;32m     55\u001b[0m     \u001b[1;32melse\u001b[0m\u001b[1;33m:\u001b[0m\u001b[1;33m\u001b[0m\u001b[1;33m\u001b[0m\u001b[0m\n\u001b[0;32m     56\u001b[0m         \u001b[1;32mraise\u001b[0m \u001b[0mValueError\u001b[0m\u001b[1;33m(\u001b[0m\u001b[1;34m'Invalid mode \"%s\"'\u001b[0m \u001b[1;33m%\u001b[0m \u001b[0mmode\u001b[0m\u001b[1;33m)\u001b[0m\u001b[1;33m\u001b[0m\u001b[1;33m\u001b[0m\u001b[0m\n",
      "\u001b[1;31mPermissionError\u001b[0m: [Errno 13] Permission denied: 'C:\\\\Users\\\\darne\\\\AppData\\\\Local\\\\Temp\\\\tmpamxvwmj0.pdb'"
     ]
    }
   ],
   "source": [
    "ngltraj = visualize_complex(complex_mdtraj)\n",
    "ngltraj"
   ]
  },
  {
   "cell_type": "markdown",
   "metadata": {
    "colab_type": "text",
    "id": "tZ0Ya3T_PD7p"
   },
   "source": [
    "Step 2: featurize the dataset"
   ]
  },
  {
   "cell_type": "markdown",
   "metadata": {
    "colab_type": "text",
    "id": "ISZUtQ1oPM_b"
   },
   "source": [
    "Step 3: train model"
   ]
  },
  {
   "cell_type": "markdown",
   "metadata": {
    "colab_type": "text",
    "id": "6P0fSoERPQ3E"
   },
   "source": [
    "Step 4: optimize hyperparameters"
   ]
  },
  {
   "cell_type": "markdown",
   "metadata": {
    "colab_type": "text",
    "id": "ivrHFRQQPhZr"
   },
   "source": [
    "Step 5: plot/visualize performance"
   ]
  }
 ],
 "metadata": {
  "colab": {
   "collapsed_sections": [],
   "name": "DeepChemAffinityModel.ipynb",
   "provenance": [],
   "version": "0.3.2"
  },
  "kernelspec": {
   "display_name": "Python 3",
   "language": "python",
   "name": "python3"
  },
  "language_info": {
   "codemirror_mode": {
    "name": "ipython",
    "version": 3
   },
   "file_extension": ".py",
   "mimetype": "text/x-python",
   "name": "python",
   "nbconvert_exporter": "python",
   "pygments_lexer": "ipython3",
   "version": "3.6.8"
  }
 },
 "nbformat": 4,
 "nbformat_minor": 1
}
